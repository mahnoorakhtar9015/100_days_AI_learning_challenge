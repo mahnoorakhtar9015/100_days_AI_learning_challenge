{
 "cells": [
  {
   "cell_type": "markdown",
   "metadata": {},
   "source": [
    "# PYTHON TUTORIAL"
   ]
  },
  {
   "cell_type": "markdown",
   "metadata": {},
   "source": [
    "## Starting with basic python"
   ]
  },
  {
   "cell_type": "markdown",
   "metadata": {},
   "source": [
    "On day 1 we will start with the basics of python and then will take it to more expert level. Initially the tasks will be simple and when we will get some experties we will         move forward to more complex tasks. Starting with basics.."
   ]
  },
  {
   "cell_type": "code",
   "execution_count": 4,
   "metadata": {},
   "outputs": [
    {
     "name": "stdout",
     "output_type": "stream",
     "text": [
      "HELLO WORLD!\n"
     ]
    }
   ],
   "source": [
    "# Python syntax\n",
    "# To add comment in python we need to add # this in the begining.\n",
    "print(\"HELLO WORLD!\")"
   ]
  },
  {
   "cell_type": "markdown",
   "metadata": {},
   "source": [
    "### Python Variables"
   ]
  },
  {
   "cell_type": "code",
   "execution_count": 5,
   "metadata": {},
   "outputs": [
    {
     "name": "stdout",
     "output_type": "stream",
     "text": [
      "x :: 5\n",
      "y :: Mahnoor\n",
      "y :: 10\n"
     ]
    }
   ],
   "source": [
    "# python has no command to declare variable, it will be declared as soon as you will assign value to variable\n",
    "\n",
    "x=5\n",
    "y=\"Mahnoor\"\n",
    "print(\"x ::\",x)\n",
    "print(\"y ::\",y)\n",
    "\n",
    "y=10\n",
    "print(\"y ::\",y)\n",
    "\n",
    "# Variables do not need to be declared with any particular type, and can even change type after they have been set."
   ]
  },
  {
   "cell_type": "markdown",
   "metadata": {},
   "source": [
    "### Type casting"
   ]
  },
  {
   "cell_type": "code",
   "execution_count": 7,
   "metadata": {},
   "outputs": [
    {
     "name": "stdout",
     "output_type": "stream",
     "text": [
      "x::3\n",
      "y::3\n",
      "z::3.0\n"
     ]
    }
   ],
   "source": [
    "x=str(3)\n",
    "y=int(3)\n",
    "z=float(3)\n",
    "\n",
    "print(f\"x::{x}\\ny::{y}\\nz::{z}\")"
   ]
  },
  {
   "cell_type": "code",
   "execution_count": 9,
   "metadata": {},
   "outputs": [
    {
     "name": "stdout",
     "output_type": "stream",
     "text": [
      "type of x: <class 'str'> type of y: <class 'int'> type of z: <class 'float'>\n"
     ]
    }
   ],
   "source": [
    "# We can get the type of variables using type() function\n",
    "\n",
    "print(\"type of x:\",type(x), \"type of y:\",type(y), \"type of z:\",type(z))"
   ]
  },
  {
   "cell_type": "code",
   "execution_count": 10,
   "metadata": {},
   "outputs": [
    {
     "name": "stdout",
     "output_type": "stream",
     "text": [
      "mystr1: Mahnoor <class 'str'> mystr2: Mahnoor <class 'str'>\n"
     ]
    }
   ],
   "source": [
    "# String Variables can be declared with single quotes and double quotes\n",
    "mystr1=\"Mahnoor\"\n",
    "mystr2='Mahnoor'\n",
    "\n",
    "print(\"mystr1:\",mystr1,type(mystr1), \"mystr2:\",mystr2,type(mystr2))"
   ]
  },
  {
   "cell_type": "code",
   "execution_count": 12,
   "metadata": {},
   "outputs": [
    {
     "name": "stdout",
     "output_type": "stream",
     "text": [
      "a: Mahnoor A: Akhtar\n"
     ]
    }
   ],
   "source": [
    "#variable names are case sensitive \n",
    "a=\"Mahnoor\"\n",
    "A=\"Akhtar\"\n",
    "\n",
    "print(\"a:\",a ,\"A:\",A)"
   ]
  },
  {
   "cell_type": "markdown",
   "metadata": {},
   "source": [
    "### Variable Name"
   ]
  },
  {
   "cell_type": "code",
   "execution_count": 15,
   "metadata": {},
   "outputs": [],
   "source": [
    "# Variable name should only contain alphabet, numerics(0-9) and underscore\n",
    "# There are 3 techniques of multiword variable name \n",
    "# 1. Camel Case: first word is in lower case and the first letter of the next words is in large case\n",
    "\n",
    "myVariableName=\"Hello world!\"\n",
    "\n",
    "# 2. Pascal Case: Each word start with a capital letter\n",
    "myVariableName=\"HelloWorld!\"\n",
    "\n",
    "# 3. Snake case: Each word is separated by underscore\n",
    "my_variable_name=\"HelloWorld!\""
   ]
  },
  {
   "cell_type": "markdown",
   "metadata": {},
   "source": [
    "### Python Values: Assign multiple values"
   ]
  },
  {
   "cell_type": "code",
   "execution_count": 17,
   "metadata": {},
   "outputs": [
    {
     "name": "stdout",
     "output_type": "stream",
     "text": [
      "x: hello y: world z: Hye\n"
     ]
    }
   ],
   "source": [
    "#Assign multiple values to multiple variables\n",
    "x,y,z=\"hello\",\"world\",\"Hye\"\n",
    "print(\"x:\",x,\"y:\",y,\"z:\",z)"
   ]
  },
  {
   "cell_type": "code",
   "execution_count": 18,
   "metadata": {},
   "outputs": [
    {
     "name": "stdout",
     "output_type": "stream",
     "text": [
      "x: Hello y: Hello z: Hello\n"
     ]
    }
   ],
   "source": [
    "#Assign multiple values to single variable\n",
    "x=y=z=\"Hello\"\n",
    "print(\"x:\",x,\"y:\",y,\"z:\",z)"
   ]
  },
  {
   "cell_type": "code",
   "execution_count": 20,
   "metadata": {},
   "outputs": [
    {
     "name": "stdout",
     "output_type": "stream",
     "text": [
      "x: Apple y: Banana z: Orange\n"
     ]
    }
   ],
   "source": [
    "#unpacking a collection (list,tuples to variables)\n",
    "mylist=[\"Apple\",\"Banana\",\"Orange\"]\n",
    "x,y,z=mylist\n",
    "print(\"x:\",x,\"y:\",y,\"z:\",z)"
   ]
  },
  {
   "cell_type": "markdown",
   "metadata": {},
   "source": [
    "### Python - Output Variables"
   ]
  },
  {
   "cell_type": "code",
   "execution_count": 23,
   "metadata": {},
   "outputs": [
    {
     "name": "stdout",
     "output_type": "stream",
     "text": [
      "x: Hello y: world z: 10\n",
      "x+y:: Helloworld\n",
      "9\n"
     ]
    }
   ],
   "source": [
    "x=\"Hello\"\n",
    "y=\"world\"\n",
    "z=10\n",
    "\n",
    "print(\"x:\",x,\"y:\",y,\"z:\",z)\n",
    "print(\"x+y::\",x+y)\n",
    "\n",
    "num1=4\n",
    "num2=5\n",
    "print(num1+num2)"
   ]
  },
  {
   "cell_type": "markdown",
   "metadata": {},
   "source": [
    "### Python-Global Variables"
   ]
  },
  {
   "cell_type": "markdown",
   "metadata": {},
   "source": [
    "The variables created outside of the function are known as Global Variables"
   ]
  },
  {
   "cell_type": "code",
   "execution_count": 24,
   "metadata": {},
   "outputs": [
    {
     "name": "stdout",
     "output_type": "stream",
     "text": [
      "x:: Today is monday\n"
     ]
    }
   ],
   "source": [
    "x=\"Today is monday\"\n",
    "\n",
    "def myFunc():\n",
    "    print(\"x::\",x)\n",
    "\n",
    "myFunc()"
   ]
  },
  {
   "cell_type": "code",
   "execution_count": 26,
   "metadata": {},
   "outputs": [
    {
     "name": "stdout",
     "output_type": "stream",
     "text": [
      "Local x:: Fantastic\n",
      "Global x:: Today is monday\n"
     ]
    }
   ],
   "source": [
    "x=\"Today is monday\"\n",
    "\n",
    "def myFunc():\n",
    "    x=\"Fantastic\" # If we create a local variable with same name as global the scope of the local variable will remain local and it will not change the value of global variable excetpt in the function.\n",
    "    print(\"Local x::\",x)\n",
    "\n",
    "myFunc()\n",
    "print(\"Global x::\",x)"
   ]
  },
  {
   "cell_type": "code",
   "execution_count": 29,
   "metadata": {},
   "outputs": [
    {
     "name": "stdout",
     "output_type": "stream",
     "text": [
      "x value in function: Fantastic\n",
      "Value of x outside the function:: Fantastic\n"
     ]
    }
   ],
   "source": [
    "# use of global keyword\n",
    "x=\"Hello\"\n",
    "def myFunc():\n",
    "    global x  #we can change the value of global variable inside function by using global keyword with the variable name\n",
    "    x=\"Fantastic\"\n",
    "    print(\"x value in function:\", x)\n",
    "\n",
    "\n",
    "myFunc()\n",
    "print(\"Value of x outside the function::\",x)"
   ]
  },
  {
   "cell_type": "markdown",
   "metadata": {},
   "source": [
    "### Python Numbers"
   ]
  },
  {
   "cell_type": "code",
   "execution_count": 31,
   "metadata": {},
   "outputs": [
    {
     "name": "stdout",
     "output_type": "stream",
     "text": [
      "x: <class 'int'> y: <class 'int'> z: <class 'int'>\n"
     ]
    }
   ],
   "source": [
    "# Int, or integer, is a whole number, positive or negative, without decimals, of unlimited length.\n",
    "\n",
    "x=1\n",
    "y=1234567826785715674 \n",
    "z=-193084984\n",
    "\n",
    "print(\"x:\",type(x), \"y:\",type(y),\"z:\",type(z))"
   ]
  },
  {
   "cell_type": "code",
   "execution_count": 32,
   "metadata": {},
   "outputs": [
    {
     "name": "stdout",
     "output_type": "stream",
     "text": [
      "x: <class 'float'> y: <class 'float'> z: <class 'float'>\n"
     ]
    }
   ],
   "source": [
    "#Float, or \"floating point number\" is a number, positive or negative, containing one or more decimals.\n",
    "\n",
    "x=35e2\n",
    "y=123.4567826785715674 \n",
    "z=-19.3084984\n",
    "\n",
    "print(\"x:\",type(x), \"y:\",type(y),\"z:\",type(z))"
   ]
  },
  {
   "cell_type": "code",
   "execution_count": 33,
   "metadata": {},
   "outputs": [
    {
     "name": "stdout",
     "output_type": "stream",
     "text": [
      "x: <class 'complex'> y: <class 'complex'> z: <class 'complex'>\n"
     ]
    }
   ],
   "source": [
    "#Complex numbers are written with a \"j\" as the imaginary part\n",
    "\n",
    "x=3+5j\n",
    "y=3j\n",
    "z=-2j\n",
    "\n",
    "print(\"x:\",type(x), \"y:\",type(y),\"z:\",type(z))"
   ]
  },
  {
   "cell_type": "markdown",
   "metadata": {},
   "source": [
    "### Type Conversion"
   ]
  },
  {
   "cell_type": "code",
   "execution_count": 39,
   "metadata": {},
   "outputs": [
    {
     "name": "stdout",
     "output_type": "stream",
     "text": [
      "(1+0j) <class 'complex'>\n",
      "2 <class 'int'>\n",
      "1.0 <class 'float'>\n"
     ]
    }
   ],
   "source": [
    "x=1\n",
    "y=2.4\n",
    "z=3j\n",
    "\n",
    "a=complex(x)\n",
    "print(a,(type(a)))\n",
    "\n",
    "b=int(y)\n",
    "print(b,type(b))\n",
    "\n",
    "c=float(x)\n",
    "print(c,type(c))"
   ]
  },
  {
   "cell_type": "markdown",
   "metadata": {},
   "source": [
    "### Random Number"
   ]
  },
  {
   "cell_type": "code",
   "execution_count": 41,
   "metadata": {},
   "outputs": [
    {
     "name": "stdout",
     "output_type": "stream",
     "text": [
      "7\n"
     ]
    }
   ],
   "source": [
    "import random \n",
    "\n",
    "print(random.randrange(1,10))"
   ]
  },
  {
   "cell_type": "code",
   "execution_count": null,
   "metadata": {},
   "outputs": [],
   "source": []
  }
 ],
 "metadata": {
  "kernelspec": {
   "display_name": "Python 3",
   "language": "python",
   "name": "python3"
  },
  "language_info": {
   "codemirror_mode": {
    "name": "ipython",
    "version": 3
   },
   "file_extension": ".py",
   "mimetype": "text/x-python",
   "name": "python",
   "nbconvert_exporter": "python",
   "pygments_lexer": "ipython3",
   "version": "3.12.3"
  }
 },
 "nbformat": 4,
 "nbformat_minor": 2
}
